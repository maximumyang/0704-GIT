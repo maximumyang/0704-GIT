{
 "cells": [
  {
   "attachments": {},
   "cell_type": "markdown",
   "metadata": {},
   "source": [
    "# 무신사 코디 크롤링 - 양진성\n",
    "\n",
    "url => https://www.musinsa.com/app/codimap/lists?style_type=&tag_no=&brand=&display_cnt=60&list_kind=big&sort=comment_cnt&page=1\n",
    "\n",
    "과제: 무신사 코디맵 페이지(많은 댓글 수 기준 정렬)에 나와있는 60개의 코디맵에 대하여 각각 ['codimap_category', 'codimap_title', 'codimap_date', 'views', 'comment_numbers'] 정보를 가져와서 csv 형태로 만든 다음, 해당 코드(.ipynb)와 csv 파일을 본인 github 과제 repository에 제출\n",
    "\n",
    "Challenge:\n",
    "1. 각 코디맵마다 클릭한 뒤 다시 이전페이지로 돌아오는 코드를 반복문에 추가하여 ['codimap_explain', 'codimap_hashtag', 'codimap_imgurl'] 정보도 가져오기\n",
    "2.  page url을 format 함수를 이용해 수정한 뒤 반복문을 통해 1페이지부터 5페이지까지의 코디맵 정보 가져오기"
   ]
  },
  {
   "cell_type": "code",
   "execution_count": 471,
   "metadata": {},
   "outputs": [
    {
     "name": "stdout",
     "output_type": "stream",
     "text": [
      "4.8.2\n"
     ]
    }
   ],
   "source": [
    "from bs4 import BeautifulSoup\n",
    "import selenium\n",
    "from selenium import webdriver\n",
    "from selenium.webdriver.chrome.service import Service\n",
    "from webdriver_manager.chrome import ChromeDriverManager\n",
    "import pandas as pd\n",
    "import numpy as np\n",
    "import time\n",
    "from selenium.webdriver.common.by import By\n",
    "from selenium.webdriver.common.keys import Keys\n",
    "from selenium.webdriver.support.ui import WebDriverWait\n",
    "from selenium.webdriver.support import expected_conditions as EC\n",
    "import re\n",
    "print(selenium.__version__)"
   ]
  },
  {
   "cell_type": "code",
   "execution_count": 472,
   "metadata": {},
   "outputs": [],
   "source": [
    "from bs4 import BeautifulSoup\n",
    "import requests"
   ]
  },
  {
   "cell_type": "code",
   "execution_count": 473,
   "metadata": {},
   "outputs": [],
   "source": [
    "import numpy as np\n",
    "import pandas as pd"
   ]
  },
  {
   "cell_type": "code",
   "execution_count": 474,
   "metadata": {},
   "outputs": [],
   "source": [
    "options = webdriver.ChromeOptions()\n",
    "driver = webdriver.Chrome(service=Service(ChromeDriverManager().install()), options=options)"
   ]
  },
  {
   "cell_type": "code",
   "execution_count": 475,
   "metadata": {},
   "outputs": [],
   "source": [
    "url = 'https://www.musinsa.com/app/codimap/lists?style_type=&tag_no=&brand=&display_cnt=60&list_kind=big&sort=comment_cnt&page=1'\n",
    "driver.get(url)\n",
    "driver.maximize_window() # 브라우저의 크기 전체화면으로 확대\n",
    "driver.implicitly_wait(3)\n",
    "#계속 403 오류가 나기 때문에 해더 추가\n",
    "headers = {'User-Agent': 'Mozilla/5.0 (Macintosh; Intel Mac OS X 10_15_7) AppleWebKit/537.36 (KHTML, like Gecko) Chrome/114.0.0.0 Safari/537.36'} \n",
    "page = requests.get (url, headers=headers)\n",
    "# print(page.status_code)\n",
    "soup = BeautifulSoup(page.text, 'html.parser')"
   ]
  },
  {
   "cell_type": "code",
   "execution_count": 477,
   "metadata": {},
   "outputs": [],
   "source": [
    "style_info = soup.find_all('div', attrs= {'class': 'style-list-information'})\n",
    "# print(style_info)\n",
    "\n",
    "category = []\n",
    "title = []\n",
    "\n",
    "for i in style_info:\n",
    "    category.append(i.get_text().replace('\\n', ' ').strip().split()[0])  \n",
    "    title.append(\" \".join(i.get_text().replace('\\n', ' ').strip().split()[1:]))\n",
    "\n",
    "#category\n",
    "#title\n"
   ]
  },
  {
   "cell_type": "code",
   "execution_count": 478,
   "metadata": {},
   "outputs": [],
   "source": [
    "post_info = soup.find_all('div', attrs= {'class': 'post-information'})\n",
    "\n",
    "# print(post_info[0].get_text())\n",
    "\n",
    "date = []\n",
    "views = []\n",
    "comments = []\n",
    "\n",
    "for i in post_info:\n",
    "    date.append(i.get_text().replace('\\n', ' ').split()[0])\n",
    "    views.append(i.get_text().replace('\\n', ' ').split()[2])\n",
    "    comments.append(i.get_text().replace('\\n', ' ').split()[-1])\n",
    "\n",
    "# date\n",
    "# views\n",
    "# comments\n",
    "\n"
   ]
  },
  {
   "cell_type": "code",
   "execution_count": 479,
   "metadata": {},
   "outputs": [],
   "source": [
    "df1 = pd.DataFrame(zip(category, title, date, views, comments), columns = ['codimap_category', 'codimap_title', 'codimap_date', 'views', 'comment_numbers'])\n",
    "\n",
    "#데이터타입 변환\n",
    "df1.views = df1.views.str.replace(\",\",\"\")\n",
    "df1.views = df1.views.astype(int)\n",
    "df1.comment_numbers = df1.comment_numbers.astype(int) \n",
    "\n",
    "# df1.info()\n",
    "\n",
    "# df1"
   ]
  },
  {
   "cell_type": "code",
   "execution_count": 480,
   "metadata": {},
   "outputs": [],
   "source": [
    "# df1.to_csv('무신사 첫페이지 크롤링.csv', encoding = 'utf-8-sig')"
   ]
  },
  {
   "cell_type": "code",
   "execution_count": null,
   "metadata": {},
   "outputs": [],
   "source": []
  }
 ],
 "metadata": {
  "kernelspec": {
   "display_name": "base",
   "language": "python",
   "name": "python3"
  },
  "language_info": {
   "codemirror_mode": {
    "name": "ipython",
    "version": 3
   },
   "file_extension": ".py",
   "mimetype": "text/x-python",
   "name": "python",
   "nbconvert_exporter": "python",
   "pygments_lexer": "ipython3",
   "version": "3.10.9"
  },
  "orig_nbformat": 4
 },
 "nbformat": 4,
 "nbformat_minor": 2
}
