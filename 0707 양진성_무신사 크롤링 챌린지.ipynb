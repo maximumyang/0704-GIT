{
 "cells": [
  {
   "attachments": {},
   "cell_type": "markdown",
   "metadata": {},
   "source": [
    "## Challenge\n",
    "\n",
    "1. 각 코디맵마다 클릭한 뒤 다시 이전페이지로 돌아오는 코드를 반복문에 추가하여 ['codimap_explain', 'codimap_hashtag', 'codimap_imgurl'] 정보도 가져오기\n",
    "2.  page url을 format 함수를 이용해 수정한 뒤 반복문을 통해 1페이지부터 5페이지까지의 코디맵 정보 가져오기"
   ]
  },
  {
   "cell_type": "code",
   "execution_count": 1,
   "metadata": {},
   "outputs": [
    {
     "name": "stdout",
     "output_type": "stream",
     "text": [
      "4.8.2\n"
     ]
    }
   ],
   "source": [
    "from bs4 import BeautifulSoup\n",
    "import selenium\n",
    "from selenium import webdriver\n",
    "from selenium.webdriver.chrome.service import Service\n",
    "from webdriver_manager.chrome import ChromeDriverManager\n",
    "import pandas as pd\n",
    "import numpy as np\n",
    "import time\n",
    "from selenium.webdriver.common.by import By\n",
    "from selenium.webdriver.common.keys import Keys\n",
    "from selenium.webdriver.support.ui import WebDriverWait\n",
    "from selenium.webdriver.support import expected_conditions as EC\n",
    "import re\n",
    "print(selenium.__version__)\n",
    "import requests"
   ]
  },
  {
   "cell_type": "code",
   "execution_count": 2,
   "metadata": {},
   "outputs": [],
   "source": [
    "import numpy as np\n",
    "import pandas as pd"
   ]
  },
  {
   "cell_type": "code",
   "execution_count": 3,
   "metadata": {},
   "outputs": [],
   "source": [
    "options = webdriver.ChromeOptions()\n",
    "driver = webdriver.Chrome(service=Service(ChromeDriverManager().install()), options=options)"
   ]
  },
  {
   "cell_type": "code",
   "execution_count": 4,
   "metadata": {},
   "outputs": [],
   "source": [
    "category = []\n",
    "title = []\n",
    "    \n",
    "date = []\n",
    "views = []\n",
    "comments = []    \n",
    "\n",
    "codimap_explain_list = []\n",
    "codimap_hashtag_list = []\n",
    "codimap_imgurl_list = []\n",
    "\n",
    "page_number = 2\n",
    "\n",
    "for i in range(1,page_number+1):\n",
    "\n",
    "    url = 'https://www.musinsa.com/app/codimap/lists?style_type=&tag_no=&brand=&display_cnt=60&list_kind=big&sort=comment_cnt&page={}'.format(i)\n",
    "    driver.get(url)\n",
    "    driver.implicitly_wait(3)\n",
    "    # 계속 403 오류가 나기 때문에 해더 추가\n",
    "    headers = {'User-Agent': 'Mozilla/5.0 (Macintosh; Intel Mac OS X 10_15_7) AppleWebKit/537.36 (KHTML, like Gecko) Chrome/114.0.0.0 Safari/537.36'} \n",
    "    page = requests.get (url, headers=headers)\n",
    "    # print(page.status_code)\n",
    "    soup = BeautifulSoup(page.text, 'html.parser')\n",
    "    \n",
    "    style_info = soup.find_all('div', attrs= {'class': 'style-list-information'})\n",
    "    for i in style_info:\n",
    "        category.append(i.get_text().replace('\\n', ' ').strip().split()[0])  \n",
    "        title.append(\" \".join(i.get_text().replace('\\n', ' ').strip().split()[1:]))\n",
    "\n",
    "    \n",
    "    post_info = soup.find_all('div', attrs= {'class': 'post-information'})\n",
    "    # print(post_info[0].get_text())\n",
    "    for i in post_info:\n",
    "        date.append(i.get_text().replace('\\n', ' ').split()[0])\n",
    "        views.append(i.get_text().replace('\\n', ' ').split()[2])\n",
    "        comments.append(i.get_text().replace('\\n', ' ').split()[-1])\n",
    "\n",
    "    \n",
    "\n",
    "    for i in range(1,61): \n",
    "\n",
    "        hashtag_str = \"\" #반복문 돌며 codimap_hashtag_list에 넣어줄 문자열 생성\n",
    "        \n",
    "        codi_button = driver.find_element(By.XPATH, '/html/body/div[3]/div[3]/form/div[4]/div/ul/li[{}]'.format(i))  #코디 버튼 클릭\n",
    "        codi_button.click()\n",
    "        driver.implicitly_wait(5)\n",
    "\n",
    "        new_page_source = driver.page_source #이동한 페이지의 페이지 소스 불러오기\n",
    "        soup2 = BeautifulSoup(new_page_source, 'html.parser')\n",
    "\n",
    "        codi_info = soup2.find('p',attrs={'class':\"styling_txt\"}) \n",
    "        codi_hashtag = soup2.find_all('a', attrs={\"class\": \"ui-tag-list__item\" })\n",
    "        codi_imgurl = soup2.find('img', attrs={\"class\": \"photo\" })\n",
    "\n",
    "        codimap_explain_list.append(codi_info.get_text()) #리스트에 하나씩 적재\n",
    "        for i in codi_hashtag:\n",
    "            hashtag_str += i.get_text() + \" \" \n",
    "        codimap_hashtag_list.append(hashtag_str.strip())\n",
    "        codimap_imgurl_list.append(codi_imgurl['src'])    \n",
    "\n",
    "        driver.back()\n",
    "\n",
    "driver.close()"
   ]
  },
  {
   "cell_type": "code",
   "execution_count": 6,
   "metadata": {},
   "outputs": [],
   "source": [
    "df1 = pd.DataFrame(zip(category, title, date, views, comments, codimap_explain_list, codimap_hashtag_list, codimap_imgurl_list), columns = ['codimap_category', 'codimap_title', 'codimap_date', 'views', 'comment_numbers','codimap_explain', 'codimap_hashtag', 'codimap_imgurl'])\n",
    "\n",
    "#데이터타입 변환\n",
    "df1.views = df1.views.str.replace(\",\",\"\")\n",
    "df1.views = df1.views.astype(int)\n",
    "df1.comment_numbers = df1.comment_numbers.astype(int) \n",
    "\n",
    "# df1.info()\n"
   ]
  },
  {
   "cell_type": "code",
   "execution_count": 8,
   "metadata": {},
   "outputs": [],
   "source": [
    "# df1\n",
    "df1.to_csv('0707 양진성_무신사 크롤링 챌린지.csv', encoding = 'utf-8-sig')"
   ]
  }
 ],
 "metadata": {
  "kernelspec": {
   "display_name": "base",
   "language": "python",
   "name": "python3"
  },
  "language_info": {
   "codemirror_mode": {
    "name": "ipython",
    "version": 3
   },
   "file_extension": ".py",
   "mimetype": "text/x-python",
   "name": "python",
   "nbconvert_exporter": "python",
   "pygments_lexer": "ipython3",
   "version": "3.10.9"
  },
  "orig_nbformat": 4
 },
 "nbformat": 4,
 "nbformat_minor": 2
}
